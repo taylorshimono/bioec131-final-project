{
 "cells": [
  {
   "cell_type": "code",
   "execution_count": 8,
   "id": "c78138e6",
   "metadata": {},
   "outputs": [
    {
     "name": "stdout",
     "output_type": "stream",
     "text": [
      "Collecting package metadata (current_repodata.json): ...working... done\n",
      "Solving environment: ...working... done\n",
      "\n",
      "## Package Plan ##\n",
      "\n",
      "  environment location: /opt/conda\n",
      "\n",
      "  added / updated specs:\n",
      "    - biopython\n",
      "    - muscle\n",
      "\n",
      "\n",
      "The following packages will be downloaded:\n",
      "\n",
      "    package                    |            build\n",
      "    ---------------------------|-----------------\n",
      "    muscle-3.8.1551            |       h7d875b9_6         262 KB  bioconda\n",
      "    ------------------------------------------------------------\n",
      "                                           Total:         262 KB\n",
      "\n",
      "The following NEW packages will be INSTALLED:\n",
      "\n",
      "  muscle             bioconda/linux-64::muscle-3.8.1551-h7d875b9_6\n",
      "\n",
      "\n",
      "Preparing transaction: ...working... done\n",
      "Verifying transaction: ...working... done\n",
      "Executing transaction: ...working... done\n",
      "Collecting package metadata (current_repodata.json): done\n",
      "Solving environment: done\n",
      "\n",
      "\n",
      "==> WARNING: A newer version of conda exists. <==\n",
      "  current version: 4.10.3\n",
      "  latest version: 4.11.0\n",
      "\n",
      "Please update conda by running\n",
      "\n",
      "    $ conda update -n base conda\n",
      "\n",
      "\n",
      "\n",
      "# All requested packages already installed.\n",
      "\n",
      "yes: standard output: Broken pipe\n",
      "Requirement already satisfied: pyyaml in /opt/conda/lib/python3.9/site-packages (6.0)\n"
     ]
    }
   ],
   "source": [
    "!conda install -y -q -c conda-forge biopython muscle\n",
    "from Bio import SeqIO\n",
    "\n",
    "!yes | conda install -c bioconda bowtie2\n",
    "!pip install pyyaml\n",
    "\n",
    "from Bio.Blast import NCBIWWW\n",
    "from Bio.Blast import NCBIXML\n"
   ]
  },
  {
   "cell_type": "code",
   "execution_count": 10,
   "id": "c9b763eb",
   "metadata": {},
   "outputs": [],
   "source": [
    "import os\n",
    "from Bio.Align.Applications import MuscleCommandline"
   ]
  },
  {
   "cell_type": "code",
   "execution_count": 11,
   "id": "507cf0cf",
   "metadata": {},
   "outputs": [
    {
     "data": {
      "text/plain": [
       "11"
      ]
     },
     "execution_count": 11,
     "metadata": {},
     "output_type": "execute_result"
    }
   ],
   "source": [
    "records = []\n",
    "for filename in os.scandir(\"./unaligned\"):\n",
    "    for record in SeqIO.parse(filename, \"fasta\"):\n",
    "        records.append(record)\n",
    "SeqIO.write(records, \"all_unaligned.fasta\", \"fasta\")"
   ]
  },
  {
   "cell_type": "code",
   "execution_count": 12,
   "id": "cee0ea21",
   "metadata": {},
   "outputs": [
    {
     "name": "stdout",
     "output_type": "stream",
     "text": [
      "\n",
      "MUSCLE v3.8.1551 by Robert C. Edgar\n",
      "\n",
      "http://www.drive5.com/muscle\n",
      "This software is donated to the public domain.\n",
      "Please cite: Edgar, R.C. Nucleic Acids Res 32(5), 1792-97.\n",
      "\n",
      "all_unaligned 11 seqs, lengths min 501, max 630, avg 570\n",
      "00:00:00     15 MB(1%)  Iter   1  100.00%  K-mer dist pass 1\n",
      "00:00:00     15 MB(1%)  Iter   1  100.00%  K-mer dist pass 2\n",
      "00:00:00     22 MB(1%)  Iter   1  100.00%  Align node       \n",
      "00:00:00     22 MB(1%)  Iter   1  100.00%  Root alignment\n",
      "00:00:00     22 MB(1%)  Iter   2  100.00%  Refine tree   \n",
      "00:00:00     22 MB(1%)  Iter   2  100.00%  Root alignment\n",
      "00:00:00     22 MB(1%)  Iter   2  100.00%  Root alignment\n",
      "00:00:00     22 MB(1%)  Iter   3  100.00%  Refine biparts\n",
      "00:00:00     22 MB(1%)  Iter   4  100.00%  Refine biparts\n",
      "00:00:00     22 MB(1%)  Iter   5  100.00%  Refine biparts\n",
      "00:00:00     22 MB(1%)  Iter   5  100.00%  Refine biparts\n",
      "00:00:00     22 MB(1%)  Iter   6  100.00%  Refine biparts\n",
      "00:00:00     22 MB(1%)  Iter   7  100.00%  Refine biparts\n",
      "00:00:00     22 MB(1%)  Iter   8  100.00%  Refine biparts\n",
      "00:00:00     22 MB(1%)  Iter   8  100.00%  Refine biparts\n",
      "00:00:00     22 MB(1%)  Iter   9  100.00%  Refine biparts\n",
      "00:00:00     22 MB(1%)  Iter  10  100.00%  Refine biparts\n",
      "00:00:00     22 MB(1%)  Iter  11  100.00%  Refine biparts\n",
      "00:00:00     22 MB(1%)  Iter  12  100.00%  Refine biparts\n",
      "00:00:00     22 MB(1%)  Iter  13  100.00%  Refine biparts\n",
      "00:00:00     22 MB(1%)  Iter  13  100.00%  Refine biparts\n",
      "00:00:00     22 MB(1%)  Iter  14  100.00%  Refine biparts\n",
      "00:00:00     22 MB(1%)  Iter  15  100.00%  Refine biparts\n",
      "00:00:01     22 MB(1%)  Iter  16  100.00%  Refine biparts\n",
      "00:00:01     22 MB(1%)  Iter  17  100.00%  Refine biparts\n",
      "00:00:01     22 MB(1%)  Iter  17  100.00%  Refine biparts\n",
      "00:00:01     22 MB(1%)  Iter  18  100.00%  Refine biparts\n",
      "00:00:01     22 MB(1%)  Iter  19  100.00%  Refine biparts\n",
      "00:00:01     22 MB(1%)  Iter  20  100.00%  Refine biparts\n",
      "00:00:01     22 MB(1%)  Iter  21  100.00%  Refine biparts\n",
      "00:00:01     22 MB(1%)  Iter  22  100.00%  Refine biparts\n",
      "00:00:01     22 MB(1%)  Iter  22  100.00%  Refine biparts\n"
     ]
    }
   ],
   "source": [
    "!muscle -in all_unaligned.fasta -out all_aligned.fasta"
   ]
  },
  {
   "cell_type": "code",
   "execution_count": 31,
   "id": "40677ada",
   "metadata": {},
   "outputs": [
    {
     "ename": "ValueError",
     "evalue": "Your XML file was empty",
     "output_type": "error",
     "traceback": [
      "\u001b[0;31m---------------------------------------------------------------------------\u001b[0m",
      "\u001b[0;31mValueError\u001b[0m                                Traceback (most recent call last)",
      "\u001b[0;32m/tmp/ipykernel_24/2722331047.py\u001b[0m in \u001b[0;36m<module>\u001b[0;34m\u001b[0m\n\u001b[1;32m      4\u001b[0m \u001b[0;34m\u001b[0m\u001b[0m\n\u001b[1;32m      5\u001b[0m \u001b[0mE_VALUE_THRESH\u001b[0m \u001b[0;34m=\u001b[0m \u001b[0;36m1e-20\u001b[0m\u001b[0;34m\u001b[0m\u001b[0;34m\u001b[0m\u001b[0m\n\u001b[0;32m----> 6\u001b[0;31m \u001b[0;32mfor\u001b[0m \u001b[0mrecord\u001b[0m \u001b[0;32min\u001b[0m \u001b[0mNCBIXML\u001b[0m\u001b[0;34m.\u001b[0m\u001b[0mparse\u001b[0m\u001b[0;34m(\u001b[0m\u001b[0mopen\u001b[0m\u001b[0;34m(\u001b[0m\u001b[0;34m'results.xml'\u001b[0m\u001b[0;34m)\u001b[0m\u001b[0;34m)\u001b[0m\u001b[0;34m:\u001b[0m\u001b[0;34m\u001b[0m\u001b[0;34m\u001b[0m\u001b[0m\n\u001b[0m\u001b[1;32m      7\u001b[0m     \u001b[0;32mif\u001b[0m \u001b[0mrecord\u001b[0m\u001b[0;34m.\u001b[0m\u001b[0malignments\u001b[0m\u001b[0;34m:\u001b[0m\u001b[0;34m\u001b[0m\u001b[0;34m\u001b[0m\u001b[0m\n\u001b[1;32m      8\u001b[0m         \u001b[0mprint\u001b[0m\u001b[0;34m(\u001b[0m\u001b[0;34m'\\n'\u001b[0m\u001b[0;34m)\u001b[0m\u001b[0;34m\u001b[0m\u001b[0;34m\u001b[0m\u001b[0m\n",
      "\u001b[0;32m/opt/conda/lib/python3.9/site-packages/Bio/Blast/NCBIXML.py\u001b[0m in \u001b[0;36mparse\u001b[0;34m(handle, debug)\u001b[0m\n\u001b[1;32m    797\u001b[0m     \u001b[0;32mif\u001b[0m \u001b[0;32mnot\u001b[0m \u001b[0mtext\u001b[0m\u001b[0;34m:\u001b[0m\u001b[0;34m\u001b[0m\u001b[0;34m\u001b[0m\u001b[0m\n\u001b[1;32m    798\u001b[0m         \u001b[0;31m# NO DATA FOUND!\u001b[0m\u001b[0;34m\u001b[0m\u001b[0;34m\u001b[0m\u001b[0m\n\u001b[0;32m--> 799\u001b[0;31m         \u001b[0;32mraise\u001b[0m \u001b[0mValueError\u001b[0m\u001b[0;34m(\u001b[0m\u001b[0;34m\"Your XML file was empty\"\u001b[0m\u001b[0;34m)\u001b[0m\u001b[0;34m\u001b[0m\u001b[0;34m\u001b[0m\u001b[0m\n\u001b[0m\u001b[1;32m    800\u001b[0m \u001b[0;34m\u001b[0m\u001b[0m\n\u001b[1;32m    801\u001b[0m     \u001b[0;32mwhile\u001b[0m \u001b[0mtext\u001b[0m\u001b[0;34m:\u001b[0m\u001b[0;34m\u001b[0m\u001b[0;34m\u001b[0m\u001b[0m\n",
      "\u001b[0;31mValueError\u001b[0m: Your XML file was empty"
     ]
    }
   ],
   "source": [
    "with open ('results.xml', 'w') as save_file:\n",
    "    blast_results = result_handle.read()\n",
    "    save_file.write(blast_results)\n",
    "    \n",
    "E_VALUE_THRESH = 1e-20\n",
    "for record in NCBIXML.parse(open('results.xml')):\n",
    "    if record.alignments:\n",
    "        print('\\n')\n",
    "        print('query: %s' % record.query[:100])\n",
    "        for align in record.alignments:\n",
    "            for hsp in align.hsps:\n",
    "                if hsp.expect < E_VALUE_THRESH:\n",
    "                    print('match: %s' % align.title[:100])"
   ]
  },
  {
   "cell_type": "code",
   "execution_count": 24,
   "id": "a1b1776f",
   "metadata": {},
   "outputs": [
    {
     "ename": "ApplicationError",
     "evalue": "Non-zero return code 127 from 'blastp -outfmt 5 -query weeksella.fasta -subject streptomyces_sequence.fasta', message '/bin/sh: 1: blastp: not found'",
     "output_type": "error",
     "traceback": [
      "\u001b[0;31m---------------------------------------------------------------------------\u001b[0m",
      "\u001b[0;31mApplicationError\u001b[0m                          Traceback (most recent call last)",
      "\u001b[0;32m/tmp/ipykernel_24/3317800859.py\u001b[0m in \u001b[0;36m<module>\u001b[0;34m\u001b[0m\n\u001b[1;32m      1\u001b[0m \u001b[0;32mfrom\u001b[0m \u001b[0mBio\u001b[0m\u001b[0;34m.\u001b[0m\u001b[0mBlast\u001b[0m\u001b[0;34m.\u001b[0m\u001b[0mApplications\u001b[0m \u001b[0;32mimport\u001b[0m \u001b[0mNcbiblastpCommandline\u001b[0m\u001b[0;34m\u001b[0m\u001b[0;34m\u001b[0m\u001b[0m\n\u001b[0;32m----> 2\u001b[0;31m \u001b[0moutput\u001b[0m \u001b[0;34m=\u001b[0m \u001b[0mNcbiblastpCommandline\u001b[0m\u001b[0;34m(\u001b[0m\u001b[0mquery\u001b[0m\u001b[0;34m=\u001b[0m\u001b[0;34m'weeksella.fasta'\u001b[0m\u001b[0;34m,\u001b[0m \u001b[0msubject\u001b[0m\u001b[0;34m=\u001b[0m\u001b[0;34m'streptomyces_sequence.fasta'\u001b[0m\u001b[0;34m,\u001b[0m \u001b[0moutfmt\u001b[0m\u001b[0;34m=\u001b[0m\u001b[0;36m5\u001b[0m\u001b[0;34m)\u001b[0m\u001b[0;34m(\u001b[0m\u001b[0;34m)\u001b[0m\u001b[0;34m[\u001b[0m\u001b[0;36m0\u001b[0m\u001b[0;34m]\u001b[0m\u001b[0;34m\u001b[0m\u001b[0;34m\u001b[0m\u001b[0m\n\u001b[0m\u001b[1;32m      3\u001b[0m \u001b[0mblast_result_record\u001b[0m \u001b[0;34m=\u001b[0m \u001b[0mNCBIXMl\u001b[0m\u001b[0;34m.\u001b[0m\u001b[0mread\u001b[0m\u001b[0;34m(\u001b[0m\u001b[0mStringIO\u001b[0m\u001b[0;34m(\u001b[0m\u001b[0moutput\u001b[0m\u001b[0;34m)\u001b[0m\u001b[0;34m)\u001b[0m\u001b[0;34m\u001b[0m\u001b[0;34m\u001b[0m\u001b[0m\n",
      "\u001b[0;32m/opt/conda/lib/python3.9/site-packages/Bio/Application/__init__.py\u001b[0m in \u001b[0;36m__call__\u001b[0;34m(self, stdin, stdout, stderr, cwd, env)\u001b[0m\n\u001b[1;32m    572\u001b[0m \u001b[0;34m\u001b[0m\u001b[0m\n\u001b[1;32m    573\u001b[0m         \u001b[0;32mif\u001b[0m \u001b[0mreturn_code\u001b[0m\u001b[0;34m:\u001b[0m\u001b[0;34m\u001b[0m\u001b[0;34m\u001b[0m\u001b[0m\n\u001b[0;32m--> 574\u001b[0;31m             \u001b[0;32mraise\u001b[0m \u001b[0mApplicationError\u001b[0m\u001b[0;34m(\u001b[0m\u001b[0mreturn_code\u001b[0m\u001b[0;34m,\u001b[0m \u001b[0mstr\u001b[0m\u001b[0;34m(\u001b[0m\u001b[0mself\u001b[0m\u001b[0;34m)\u001b[0m\u001b[0;34m,\u001b[0m \u001b[0mstdout_str\u001b[0m\u001b[0;34m,\u001b[0m \u001b[0mstderr_str\u001b[0m\u001b[0;34m)\u001b[0m\u001b[0;34m\u001b[0m\u001b[0;34m\u001b[0m\u001b[0m\n\u001b[0m\u001b[1;32m    575\u001b[0m         \u001b[0;32mreturn\u001b[0m \u001b[0mstdout_str\u001b[0m\u001b[0;34m,\u001b[0m \u001b[0mstderr_str\u001b[0m\u001b[0;34m\u001b[0m\u001b[0;34m\u001b[0m\u001b[0m\n\u001b[1;32m    576\u001b[0m \u001b[0;34m\u001b[0m\u001b[0m\n",
      "\u001b[0;31mApplicationError\u001b[0m: Non-zero return code 127 from 'blastp -outfmt 5 -query weeksella.fasta -subject streptomyces_sequence.fasta', message '/bin/sh: 1: blastp: not found'"
     ]
    }
   ],
   "source": [
    "from Bio.Blast.Applications import NcbiblastpCommandline\n",
    "output = NcbiblastpCommandline(query='weeksella.fasta', subject='streptomyces_sequence.fasta', outfmt=5)()[0]\n",
    "blast_result_record = NCBIXMl.read(StringIO(output))"
   ]
  },
  {
   "cell_type": "code",
   "execution_count": 26,
   "id": "552491d5",
   "metadata": {},
   "outputs": [
    {
     "ename": "ApplicationError",
     "evalue": "Non-zero return code 2 from 'blastp -out output.xml -outfmt 5 -query MNRKSFIRKTSLGLGGLFLYKPMSLFSKTKPKKEPIEKPIIIIGSGYGGAVAALRLCEAGKKVCLLEMGLNWEKSGEKFSPMTHPGKSAAWLRKKTIAPFFNIFPLKPFTGTLDRLDYKNIKIWVGRGVGGGSLVNGGMAVLPKKNYFKEIFPTLDVDLFYNKYFPLAQQELKVNVADEEFLQSCSYYKFNKVGEKEAQKAGYKTIRVPNVYNFKYMEAEYENKVPRSALAGEVIYGNNHGKYSLDKTYLKKADATGNLEILDLHQVKSIALNSDHSYTLSVDQINTSGEIVQVKEMRCQKLILAAGTMGSLELLLRSQAKNQLPLDEHIGKMWGNNGNFMTGRNWVKAFSGGNGYLHSTIPVGGIDNWDDPKYPFFAEIAPLPMGMNVATSLYLIINKLDKYGEVTYHPTEDKLDLKWDLSHTKKMKENARHFIKKMNRTNGGTRAHFLFHNGFGHDICYHPLGGIVLEKATNPYGKLNLHKNLFVLDGSLIPGSIGVNPFLTITALVEYCIEHLLQSKEFETV -subject <built-in method read of _io.TextIOWrapper object at 0x7f043431aa00>', message '/bin/sh: 1: Syntax error: end of file unexpected'",
     "output_type": "error",
     "traceback": [
      "\u001b[0;31m---------------------------------------------------------------------------\u001b[0m",
      "\u001b[0;31mApplicationError\u001b[0m                          Traceback (most recent call last)",
      "\u001b[0;32m/tmp/ipykernel_24/1671551659.py\u001b[0m in \u001b[0;36m<module>\u001b[0;34m\u001b[0m\n\u001b[0;32m----> 1\u001b[0;31m \u001b[0moutput\u001b[0m\u001b[0;34m=\u001b[0m\u001b[0mNcbiblastpCommandline\u001b[0m\u001b[0;34m(\u001b[0m\u001b[0mquery\u001b[0m\u001b[0;34m=\u001b[0m\u001b[0mweeksella\u001b[0m\u001b[0;34m,\u001b[0m \u001b[0msubject\u001b[0m\u001b[0;34m=\u001b[0m\u001b[0morig\u001b[0m\u001b[0;34m,\u001b[0m \u001b[0moutfmt\u001b[0m\u001b[0;34m=\u001b[0m\u001b[0;36m5\u001b[0m\u001b[0;34m,\u001b[0m \u001b[0mout\u001b[0m\u001b[0;34m=\u001b[0m\u001b[0;34m'output.xml'\u001b[0m\u001b[0;34m)\u001b[0m\u001b[0;34m(\u001b[0m\u001b[0;34m)\u001b[0m\u001b[0;34m\u001b[0m\u001b[0;34m\u001b[0m\u001b[0m\n\u001b[0m",
      "\u001b[0;32m/opt/conda/lib/python3.9/site-packages/Bio/Application/__init__.py\u001b[0m in \u001b[0;36m__call__\u001b[0;34m(self, stdin, stdout, stderr, cwd, env)\u001b[0m\n\u001b[1;32m    572\u001b[0m \u001b[0;34m\u001b[0m\u001b[0m\n\u001b[1;32m    573\u001b[0m         \u001b[0;32mif\u001b[0m \u001b[0mreturn_code\u001b[0m\u001b[0;34m:\u001b[0m\u001b[0;34m\u001b[0m\u001b[0;34m\u001b[0m\u001b[0m\n\u001b[0;32m--> 574\u001b[0;31m             \u001b[0;32mraise\u001b[0m \u001b[0mApplicationError\u001b[0m\u001b[0;34m(\u001b[0m\u001b[0mreturn_code\u001b[0m\u001b[0;34m,\u001b[0m \u001b[0mstr\u001b[0m\u001b[0;34m(\u001b[0m\u001b[0mself\u001b[0m\u001b[0;34m)\u001b[0m\u001b[0;34m,\u001b[0m \u001b[0mstdout_str\u001b[0m\u001b[0;34m,\u001b[0m \u001b[0mstderr_str\u001b[0m\u001b[0;34m)\u001b[0m\u001b[0;34m\u001b[0m\u001b[0;34m\u001b[0m\u001b[0m\n\u001b[0m\u001b[1;32m    575\u001b[0m         \u001b[0;32mreturn\u001b[0m \u001b[0mstdout_str\u001b[0m\u001b[0;34m,\u001b[0m \u001b[0mstderr_str\u001b[0m\u001b[0;34m\u001b[0m\u001b[0;34m\u001b[0m\u001b[0m\n\u001b[1;32m    576\u001b[0m \u001b[0;34m\u001b[0m\u001b[0m\n",
      "\u001b[0;31mApplicationError\u001b[0m: Non-zero return code 2 from 'blastp -out output.xml -outfmt 5 -query MNRKSFIRKTSLGLGGLFLYKPMSLFSKTKPKKEPIEKPIIIIGSGYGGAVAALRLCEAGKKVCLLEMGLNWEKSGEKFSPMTHPGKSAAWLRKKTIAPFFNIFPLKPFTGTLDRLDYKNIKIWVGRGVGGGSLVNGGMAVLPKKNYFKEIFPTLDVDLFYNKYFPLAQQELKVNVADEEFLQSCSYYKFNKVGEKEAQKAGYKTIRVPNVYNFKYMEAEYENKVPRSALAGEVIYGNNHGKYSLDKTYLKKADATGNLEILDLHQVKSIALNSDHSYTLSVDQINTSGEIVQVKEMRCQKLILAAGTMGSLELLLRSQAKNQLPLDEHIGKMWGNNGNFMTGRNWVKAFSGGNGYLHSTIPVGGIDNWDDPKYPFFAEIAPLPMGMNVATSLYLIINKLDKYGEVTYHPTEDKLDLKWDLSHTKKMKENARHFIKKMNRTNGGTRAHFLFHNGFGHDICYHPLGGIVLEKATNPYGKLNLHKNLFVLDGSLIPGSIGVNPFLTITALVEYCIEHLLQSKEFETV -subject <built-in method read of _io.TextIOWrapper object at 0x7f043431aa00>', message '/bin/sh: 1: Syntax error: end of file unexpected'"
     ]
    }
   ],
   "source": [
    "output=NcbiblastpCommandline(query=weeksella, subject=orig, outfmt=5, out='output.xml')()"
   ]
  },
  {
   "cell_type": "code",
   "execution_count": 32,
   "id": "a3d18f61",
   "metadata": {},
   "outputs": [
    {
     "name": "stdout",
     "output_type": "stream",
     "text": [
      "\n",
      "\n",
      "query: EFE81671.1 cholesterol oxidase [Streptomyces albidoflavus]\n",
      "match: ref|WP_003948550.1| GMC oxidoreductase [Streptomyces albidoflavus] >gb|AWL32633.1| FAD-binding prote\n",
      "match: gb|PJT45889.1| cholesterol oxidase [Streptomyces albidoflavus] >gb|QHC15964.1| FAD-binding protein [\n",
      "match: gb|RZE17735.1| cholesterol oxidase [Streptomyces albidoflavus] >gb|RZE37822.1| cholesterol oxidase [\n",
      "match: gb|RZE73832.1| cholesterol oxidase [Streptomyces albidoflavus]\n",
      "match: gb|MYQ73617.1| FAD-binding protein [Streptomyces sp. SID4934] >gb|TWV19544.1| FAD-binding protein [S\n",
      "match: gb|NUW10051.1| FAD-binding protein [Streptomyces sp. CAI-21] >gb|NVI31445.1| FAD-binding protein [St\n",
      "match: gb|MYW60217.1| FAD-binding protein [Streptomyces sp. SID8370] >gb|MYW84757.1| FAD-binding protein [S\n",
      "match: gb|NEC97383.1| GMC family oxidoreductase [Streptomyces albidoflavus]\n",
      "match: gb|RZD76889.1| FAD-binding protein [Streptomyces albidoflavus] >gb|RZD81736.1| FAD-binding protein [\n",
      "match: gb|KDR61678.1| cholesterol oxidase [Streptomyces wadayamensis] >gb|MBT2880641.1| FAD-binding protein\n",
      "match: gb|RZD60274.1| cholesterol oxidase [Streptomyces albidoflavus]\n",
      "match: gb|ALM41113.1| cholesterol oxidase [Streptomyces sp. FR-008] >gb|KAF0793725.1| cholesterol oxidase [\n",
      "match: gb|RZE24269.1| FAD-binding protein [Streptomyces albidoflavus]\n",
      "match: gb|RZD96146.1| cholesterol oxidase [Streptomyces albidoflavus] >gb|RZD99657.1| cholesterol oxidase [\n",
      "match: gb|RZD74531.1| cholesterol oxidase [Streptomyces albidoflavus]\n",
      "match: gb|PKA36368.1| cholesterol oxidase [Streptomyces sp. SM8]\n",
      "match: gb|MYX49279.1| FAD-binding protein [Streptomyces sp. SID8385] >gb|RZE55649.1| cholesterol oxidase [S\n",
      "match: gb|KUL68278.1| cholesterol oxidase [Streptomyces albidoflavus] >gb|RZE19954.1| FAD-binding protein [\n",
      "match: gb|AMM10486.1| Cholesterol oxidase [Streptomyces albidoflavus] >emb|SCE29427.1| cholesterol oxidase \n",
      "match: gb|MYX85968.1| FAD-binding protein [Streptomyces sp. SID4915] >emb|SCD80823.1| cholesterol oxidase [\n",
      "match: ref|WP_228487491.1| GMC family oxidoreductase [Streptomyces albidoflavus] >gb|NUV74251.1| GMC family\n",
      "match: gb|PAX89490.1| cholesterol oxidase [Streptomyces albidoflavus] >gb|PBO15041.1| cholesterol oxidase [\n",
      "match: gb|MBP3079404.1| cholesterol oxidase [Streptomyces sp. 604F] >gb|QHV85552.1| cholesterol oxidase [St\n",
      "match: ref|WP_226965325.1| GMC family oxidoreductase [Streptomyces sp. WA1-19] >gb|NUV27428.1| GMC family o\n",
      "match: ref|WP_229360095.1| GMC family oxidoreductase [Streptomyces albidoflavus]\n",
      "match: ref|WP_230536194.1| GMC family oxidoreductase [Streptomyces sp. OUCMDZ-3434]\n",
      "match: gb|ESP97719.1| Cholesterol oxidase [Streptomyces sp. GBA 94-10] >gb|ESQ04379.1| Cholesterol oxidase \n",
      "match: gb|RZE95669.1| cholesterol oxidase [Streptomyces sp. SCA2-2]\n",
      "match: gb|QDD60385.1| GMC family oxidoreductase [Streptomyces albidoflavus]\n",
      "match: ref|WP_225930360.1| GMC family oxidoreductase [Streptomyces koyangensis] >gb|QRF02666.1| GMC family \n",
      "match: gb|RPK70802.1| Cholesterol oxidase [Streptomyces sp. ADI96-15]\n",
      "match: gb|RWZ77609.1| GMC family oxidoreductase [Streptomyces albidoflavus]\n",
      "match: gb|KLJ04630.1| cholesterol oxidase [Streptomyces sp. KE1]\n",
      "match: gb|OWA06626.1| cholesterol oxidase [Streptomyces sp. CS227]\n",
      "match: ref|WP_101276816.1| GMC family oxidoreductase [Streptomyces sp. EAG2] >gb|AXQ56785.1| GMC family oxi\n",
      "match: ref|WP_199808761.1| MULTISPECIES: GMC oxidoreductase [unclassified Streptomyces]\n",
      "match: ref|WP_201123983.1| GMC oxidoreductase [Streptomyces albidoflavus]\n",
      "match: ref|WP_200706683.1| MULTISPECIES: GMC oxidoreductase [unclassified Streptomyces] >gb|MBK3381825.1| G\n",
      "match: ref|WP_176724897.1| MULTISPECIES: GMC oxidoreductase [unclassified Streptomyces]\n",
      "match: ref|WP_095710413.1| GMC family oxidoreductase, partial [Streptomyces albidoflavus] >gb|PAX84974.1| c\n",
      "match: ref|WP_177214861.1| MULTISPECIES: GMC oxidoreductase [Streptomyces]\n",
      "match: ref|WP_176693870.1| GMC oxidoreductase [Streptomyces violascens] >gb|QLA60771.1| GMC family oxidored\n",
      "match: ref|WP_202550692.1| GMC oxidoreductase [Streptomyces sp. SID7817]\n",
      "match: ref|WP_207224264.1| MULTISPECIES: GMC oxidoreductase [Streptomyces] >gb|MBV7254670.1| GMC family oxi\n",
      "match: ref|WP_207224006.1| GMC oxidoreductase [Streptomyces albidoflavus]\n",
      "match: ref|WP_177223558.1| MULTISPECIES: GMC oxidoreductase [Streptomyces]\n",
      "match: ref|WP_203627599.1| GMC family oxidoreductase [Streptomyces albidoflavus]\n",
      "match: ref|WP_176726010.1| MULTISPECIES: GMC oxidoreductase [Streptomyces]\n",
      "match: ref|WP_186228812.1| GMC oxidoreductase [Streptomyces albidoflavus]\n",
      "match: ref|WP_183145303.1| GMC oxidoreductase [Streptomyces sp. LaPpAH-202]\n"
     ]
    }
   ],
   "source": [
    "result_handle = NCBIWWW.qblast('blastp', 'nr', orig)\n",
    "result_handle\n",
    "\n",
    "with open ('results.xml', 'w') as save_file:\n",
    "    blast_results = result_handle.read()\n",
    "    save_file.write(blast_results)\n",
    "    \n"
   ]
  },
  {
   "cell_type": "code",
   "execution_count": 33,
   "id": "add4d7e3",
   "metadata": {},
   "outputs": [
    {
     "name": "stdout",
     "output_type": "stream",
     "text": [
      "\n",
      "\n",
      "query: EFE81671.1 cholesterol oxidase [Streptomyces albidoflavus]\n",
      "match: ref|WP_003948550.1| GMC oxidoreductase [Streptomyces albidoflavus] >gb|AWL32633.1| FAD-binding prote\n",
      "match: gb|PJT45889.1| cholesterol oxidase [Streptomyces albidoflavus] >gb|QHC15964.1| FAD-binding protein [\n",
      "match: gb|RZE17735.1| cholesterol oxidase [Streptomyces albidoflavus] >gb|RZE37822.1| cholesterol oxidase [\n",
      "match: gb|RZE73832.1| cholesterol oxidase [Streptomyces albidoflavus]\n",
      "match: gb|MYQ73617.1| FAD-binding protein [Streptomyces sp. SID4934] >gb|TWV19544.1| FAD-binding protein [S\n",
      "match: gb|NUW10051.1| FAD-binding protein [Streptomyces sp. CAI-21] >gb|NVI31445.1| FAD-binding protein [St\n",
      "match: gb|MYW60217.1| FAD-binding protein [Streptomyces sp. SID8370] >gb|MYW84757.1| FAD-binding protein [S\n",
      "match: gb|NEC97383.1| GMC family oxidoreductase [Streptomyces albidoflavus]\n",
      "match: gb|RZD76889.1| FAD-binding protein [Streptomyces albidoflavus] >gb|RZD81736.1| FAD-binding protein [\n",
      "match: gb|KDR61678.1| cholesterol oxidase [Streptomyces wadayamensis] >gb|MBT2880641.1| FAD-binding protein\n",
      "match: gb|RZD60274.1| cholesterol oxidase [Streptomyces albidoflavus]\n",
      "match: gb|ALM41113.1| cholesterol oxidase [Streptomyces sp. FR-008] >gb|KAF0793725.1| cholesterol oxidase [\n",
      "match: gb|RZE24269.1| FAD-binding protein [Streptomyces albidoflavus]\n",
      "match: gb|RZD96146.1| cholesterol oxidase [Streptomyces albidoflavus] >gb|RZD99657.1| cholesterol oxidase [\n",
      "match: gb|RZD74531.1| cholesterol oxidase [Streptomyces albidoflavus]\n",
      "match: gb|PKA36368.1| cholesterol oxidase [Streptomyces sp. SM8]\n",
      "match: gb|MYX49279.1| FAD-binding protein [Streptomyces sp. SID8385] >gb|RZE55649.1| cholesterol oxidase [S\n",
      "match: gb|KUL68278.1| cholesterol oxidase [Streptomyces albidoflavus] >gb|RZE19954.1| FAD-binding protein [\n",
      "match: gb|AMM10486.1| Cholesterol oxidase [Streptomyces albidoflavus] >emb|SCE29427.1| cholesterol oxidase \n",
      "match: gb|MYX85968.1| FAD-binding protein [Streptomyces sp. SID4915] >emb|SCD80823.1| cholesterol oxidase [\n",
      "match: ref|WP_228487491.1| GMC family oxidoreductase [Streptomyces albidoflavus] >gb|NUV74251.1| GMC family\n",
      "match: gb|PAX89490.1| cholesterol oxidase [Streptomyces albidoflavus] >gb|PBO15041.1| cholesterol oxidase [\n",
      "match: gb|MBP3079404.1| cholesterol oxidase [Streptomyces sp. 604F] >gb|QHV85552.1| cholesterol oxidase [St\n",
      "match: ref|WP_226965325.1| GMC family oxidoreductase [Streptomyces sp. WA1-19] >gb|NUV27428.1| GMC family o\n",
      "match: ref|WP_229360095.1| GMC family oxidoreductase [Streptomyces albidoflavus]\n",
      "match: ref|WP_230536194.1| GMC family oxidoreductase [Streptomyces sp. OUCMDZ-3434]\n",
      "match: gb|ESP97719.1| Cholesterol oxidase [Streptomyces sp. GBA 94-10] >gb|ESQ04379.1| Cholesterol oxidase \n",
      "match: gb|RZE95669.1| cholesterol oxidase [Streptomyces sp. SCA2-2]\n",
      "match: gb|QDD60385.1| GMC family oxidoreductase [Streptomyces albidoflavus]\n",
      "match: ref|WP_225930360.1| GMC family oxidoreductase [Streptomyces koyangensis] >gb|QRF02666.1| GMC family \n",
      "match: gb|RPK70802.1| Cholesterol oxidase [Streptomyces sp. ADI96-15]\n",
      "match: gb|RWZ77609.1| GMC family oxidoreductase [Streptomyces albidoflavus]\n",
      "match: gb|KLJ04630.1| cholesterol oxidase [Streptomyces sp. KE1]\n",
      "match: gb|OWA06626.1| cholesterol oxidase [Streptomyces sp. CS227]\n",
      "match: ref|WP_101276816.1| GMC family oxidoreductase [Streptomyces sp. EAG2] >gb|AXQ56785.1| GMC family oxi\n",
      "match: ref|WP_199808761.1| MULTISPECIES: GMC oxidoreductase [unclassified Streptomyces]\n",
      "match: ref|WP_201123983.1| GMC oxidoreductase [Streptomyces albidoflavus]\n",
      "match: ref|WP_200706683.1| MULTISPECIES: GMC oxidoreductase [unclassified Streptomyces] >gb|MBK3381825.1| G\n",
      "match: ref|WP_176724897.1| MULTISPECIES: GMC oxidoreductase [unclassified Streptomyces]\n",
      "match: ref|WP_095710413.1| GMC family oxidoreductase, partial [Streptomyces albidoflavus] >gb|PAX84974.1| c\n",
      "match: ref|WP_177214861.1| MULTISPECIES: GMC oxidoreductase [Streptomyces]\n",
      "match: ref|WP_176693870.1| GMC oxidoreductase [Streptomyces violascens] >gb|QLA60771.1| GMC family oxidored\n",
      "match: ref|WP_202550692.1| GMC oxidoreductase [Streptomyces sp. SID7817]\n",
      "match: ref|WP_207224264.1| MULTISPECIES: GMC oxidoreductase [Streptomyces] >gb|MBV7254670.1| GMC family oxi\n",
      "match: ref|WP_207224006.1| GMC oxidoreductase [Streptomyces albidoflavus]\n",
      "match: ref|WP_177223558.1| MULTISPECIES: GMC oxidoreductase [Streptomyces]\n",
      "match: ref|WP_203627599.1| GMC family oxidoreductase [Streptomyces albidoflavus]\n",
      "match: ref|WP_176726010.1| MULTISPECIES: GMC oxidoreductase [Streptomyces]\n",
      "match: ref|WP_186228812.1| GMC oxidoreductase [Streptomyces albidoflavus]\n",
      "match: ref|WP_183145303.1| GMC oxidoreductase [Streptomyces sp. LaPpAH-202]\n"
     ]
    }
   ],
   "source": [
    "E_VALUE_THRESH = 1e-20\n",
    "for record in NCBIXML.parse(open('results.xml')):\n",
    "    if record.alignments:\n",
    "        print('\\n')\n",
    "        print('query: %s' % record.query[:100])\n",
    "        for align in record.alignments:\n",
    "            for hsp in align.hsps:\n",
    "                if hsp.expect < E_VALUE_THRESH:\n",
    "                    print('match: %s' % align.title[:100])"
   ]
  },
  {
   "cell_type": "code",
   "execution_count": 34,
   "id": "8e500091",
   "metadata": {},
   "outputs": [
    {
     "data": {
      "text/plain": [
       "<generator object parse at 0x7f046fef7660>"
      ]
     },
     "execution_count": 34,
     "metadata": {},
     "output_type": "execute_result"
    }
   ],
   "source": [
    "NCBIXML.parse(open('results.xml'))"
   ]
  },
  {
   "cell_type": "code",
   "execution_count": 37,
   "id": "f94e7fb9",
   "metadata": {},
   "outputs": [
    {
     "name": "stdout",
     "output_type": "stream",
     "text": [
      "MSQESSAQSRDVTPEPAAAAPPTDGEGYDYDVLIVGSGFGGAVSALRLTEKGYRVGVLEAGRRFTRATLPRNSWDLKNYLWAPALGLFGIQRIHLLGNVMVLAGAGVGGGSLNYANTLYVPPKPFFTDPQWGAITDWQDELKPYYDQAQKMLGVRLNPTTTPSDVHLKAAAEKMGVGDTFHMAPVGVFFGDGKDATGESRAKPGEEVPDPYFGGAGPSRRACSECGECMTGCRHGAKNTLNENYLYLAEKAGATIHPMTSVVAVTEDSRGGFAVRTLPTNAKRKGRGRTFTARRVVLAAGTYGTQTLLHRMKDTGLLPHLSDKLGTLTRTNSEGLVGAQTTDRRYRKAHGAEKADFTKGVAITSSVHPNDSTHIEPVRYGKKSNAMGGLTILQVPYAENSSRVAGFLANCAKHPLLVVRSLSNRRWSERTIIGLVMQTLDNSLTTYRKPKGIGKGLLTARQGHGAPNPTQIKEAGEAATAIAAEINGFAGSNIGELMGTPLTAHFLGGCPIGATADEGVIDPYHRLYGHPGITVVDGSAVSANLGVNPSLTITAQAERAASLWPNKGEADPRPAQGHPYERIAPVAPVRPAVPAKAFAALDLPFLGMPAMPPKQRPADAPAGPGESA\n",
      "MSQESSAQSRDVTPEPAAAAPPTDGDGYDYDVLVVGSGFGGAVSALRLTEKGYRVGVLEAGRRFTRATLPRNSWDLKNYLWAPALGLFGIQRIHLLGNVMVLAGAGVGGGSLNYANTLYVPPKPFFTDPQWGAITDWQDELKPYYDQAQKMLGVRLNPTTTPSDVHLKAAAERMGVGDTFHMAPVGVFFGDGKDATGESRAKPGEEVPDPYFGGAGPSRRACSECGECMTGCRHGAKNTLNENYLYLAEKAGATIHPMTSVVAVTEDSRGGFAVRTLPTNAKRKGRGRTFTARRVVLAAGTYGTQTLLHRMKDTGLLPHLSDKLGTLTRTNSEGLVGAQTTDRRYRKLHGTEKVDFTKGVAITSSVHPNDSTHIEPVRYGKKSNAMGGLTILQVPYAENSSRVAGFLANCAKHPLLVLRSLSNRRWSERTIIGLVMQSLDNSLTTYRKPKGLGKGLLTARQGHGAPNPTQIKEAGEAATAIAAEINGFAGSNIGELMGTPLTAHFLGGCPIGATADEGVIDPYHRLYGHPGITVVDGSAVSANLGVNPSLTITAQAERAASLWPNKGEADPRPAQGRPYERIAPVAPVRPAVPAKAFAALDLPFLGMPAMPPKQRPADEAAETSGATEGA\n"
     ]
    }
   ],
   "source": [
    "print(streptomyces)\n",
    "print(seq2)"
   ]
  },
  {
   "cell_type": "code",
   "execution_count": 49,
   "id": "f62932f9",
   "metadata": {},
   "outputs": [
    {
     "ename": "RecursionError",
     "evalue": "maximum recursion depth exceeded in __instancecheck__",
     "output_type": "error",
     "traceback": [
      "\u001b[0;31m---------------------------------------------------------------------------\u001b[0m",
      "\u001b[0;31mRecursionError\u001b[0m                            Traceback (most recent call last)",
      "\u001b[0;32m/tmp/ipykernel_24/621020831.py\u001b[0m in \u001b[0;36m<module>\u001b[0;34m\u001b[0m\n\u001b[1;32m     13\u001b[0m     \u001b[0;32mreturn\u001b[0m \u001b[0mmatched\u001b[0m\u001b[0;34m\u001b[0m\u001b[0;34m\u001b[0m\u001b[0m\n\u001b[1;32m     14\u001b[0m \u001b[0;34m\u001b[0m\u001b[0m\n\u001b[0;32m---> 15\u001b[0;31m \u001b[0mcompare_seqs\u001b[0m\u001b[0;34m(\u001b[0m\u001b[0mstreptomyces\u001b[0m\u001b[0;34m,\u001b[0m \u001b[0mseq2\u001b[0m\u001b[0;34m)\u001b[0m\u001b[0;34m\u001b[0m\u001b[0;34m\u001b[0m\u001b[0m\n\u001b[0m",
      "\u001b[0;32m/tmp/ipykernel_24/621020831.py\u001b[0m in \u001b[0;36mcompare_seqs\u001b[0;34m(first, second)\u001b[0m\n\u001b[1;32m     10\u001b[0m             \u001b[0;32mreturn\u001b[0m \u001b[0mstr\u001b[0m\u001b[0;34m\u001b[0m\u001b[0;34m\u001b[0m\u001b[0m\n\u001b[1;32m     11\u001b[0m \u001b[0;34m\u001b[0m\u001b[0m\n\u001b[0;32m---> 12\u001b[0;31m     \u001b[0mnext\u001b[0m\u001b[0;34m(\u001b[0m\u001b[0mfirst\u001b[0m\u001b[0;34m,\u001b[0m \u001b[0msecond\u001b[0m\u001b[0;34m,\u001b[0m \u001b[0mmatched\u001b[0m\u001b[0;34m)\u001b[0m\u001b[0;34m\u001b[0m\u001b[0;34m\u001b[0m\u001b[0m\n\u001b[0m\u001b[1;32m     13\u001b[0m     \u001b[0;32mreturn\u001b[0m \u001b[0mmatched\u001b[0m\u001b[0;34m\u001b[0m\u001b[0;34m\u001b[0m\u001b[0m\n\u001b[1;32m     14\u001b[0m \u001b[0;34m\u001b[0m\u001b[0m\n",
      "\u001b[0;32m/tmp/ipykernel_24/621020831.py\u001b[0m in \u001b[0;36mnext\u001b[0;34m(one, two, str)\u001b[0m\n\u001b[1;32m      6\u001b[0m         \u001b[0;32mif\u001b[0m \u001b[0mfirst\u001b[0m\u001b[0;34m[\u001b[0m\u001b[0;36m0\u001b[0m\u001b[0;34m]\u001b[0m \u001b[0;34m==\u001b[0m \u001b[0msecond\u001b[0m\u001b[0;34m[\u001b[0m\u001b[0;36m0\u001b[0m\u001b[0;34m]\u001b[0m\u001b[0;34m:\u001b[0m\u001b[0;34m\u001b[0m\u001b[0;34m\u001b[0m\u001b[0m\n\u001b[1;32m      7\u001b[0m             \u001b[0mstr\u001b[0m \u001b[0;34m+=\u001b[0m \u001b[0mfirst\u001b[0m\u001b[0;34m[\u001b[0m\u001b[0;36m0\u001b[0m\u001b[0;34m]\u001b[0m\u001b[0;34m\u001b[0m\u001b[0;34m\u001b[0m\u001b[0m\n\u001b[0;32m----> 8\u001b[0;31m             \u001b[0;32mreturn\u001b[0m \u001b[0mnext\u001b[0m\u001b[0;34m(\u001b[0m\u001b[0mfirst\u001b[0m\u001b[0;34m[\u001b[0m\u001b[0;36m1\u001b[0m\u001b[0;34m:\u001b[0m\u001b[0;34m]\u001b[0m\u001b[0;34m,\u001b[0m \u001b[0msecond\u001b[0m\u001b[0;34m[\u001b[0m\u001b[0;36m1\u001b[0m\u001b[0;34m:\u001b[0m\u001b[0;34m]\u001b[0m\u001b[0;34m,\u001b[0m \u001b[0mstr\u001b[0m\u001b[0;34m)\u001b[0m\u001b[0;34m\u001b[0m\u001b[0;34m\u001b[0m\u001b[0m\n\u001b[0m\u001b[1;32m      9\u001b[0m         \u001b[0;32melse\u001b[0m\u001b[0;34m:\u001b[0m\u001b[0;34m\u001b[0m\u001b[0;34m\u001b[0m\u001b[0m\n\u001b[1;32m     10\u001b[0m             \u001b[0;32mreturn\u001b[0m \u001b[0mstr\u001b[0m\u001b[0;34m\u001b[0m\u001b[0;34m\u001b[0m\u001b[0m\n",
      "... last 1 frames repeated, from the frame below ...\n",
      "\u001b[0;32m/tmp/ipykernel_24/621020831.py\u001b[0m in \u001b[0;36mnext\u001b[0;34m(one, two, str)\u001b[0m\n\u001b[1;32m      6\u001b[0m         \u001b[0;32mif\u001b[0m \u001b[0mfirst\u001b[0m\u001b[0;34m[\u001b[0m\u001b[0;36m0\u001b[0m\u001b[0;34m]\u001b[0m \u001b[0;34m==\u001b[0m \u001b[0msecond\u001b[0m\u001b[0;34m[\u001b[0m\u001b[0;36m0\u001b[0m\u001b[0;34m]\u001b[0m\u001b[0;34m:\u001b[0m\u001b[0;34m\u001b[0m\u001b[0;34m\u001b[0m\u001b[0m\n\u001b[1;32m      7\u001b[0m             \u001b[0mstr\u001b[0m \u001b[0;34m+=\u001b[0m \u001b[0mfirst\u001b[0m\u001b[0;34m[\u001b[0m\u001b[0;36m0\u001b[0m\u001b[0;34m]\u001b[0m\u001b[0;34m\u001b[0m\u001b[0;34m\u001b[0m\u001b[0m\n\u001b[0;32m----> 8\u001b[0;31m             \u001b[0;32mreturn\u001b[0m \u001b[0mnext\u001b[0m\u001b[0;34m(\u001b[0m\u001b[0mfirst\u001b[0m\u001b[0;34m[\u001b[0m\u001b[0;36m1\u001b[0m\u001b[0;34m:\u001b[0m\u001b[0;34m]\u001b[0m\u001b[0;34m,\u001b[0m \u001b[0msecond\u001b[0m\u001b[0;34m[\u001b[0m\u001b[0;36m1\u001b[0m\u001b[0;34m:\u001b[0m\u001b[0;34m]\u001b[0m\u001b[0;34m,\u001b[0m \u001b[0mstr\u001b[0m\u001b[0;34m)\u001b[0m\u001b[0;34m\u001b[0m\u001b[0;34m\u001b[0m\u001b[0m\n\u001b[0m\u001b[1;32m      9\u001b[0m         \u001b[0;32melse\u001b[0m\u001b[0;34m:\u001b[0m\u001b[0;34m\u001b[0m\u001b[0;34m\u001b[0m\u001b[0m\n\u001b[1;32m     10\u001b[0m             \u001b[0;32mreturn\u001b[0m \u001b[0mstr\u001b[0m\u001b[0;34m\u001b[0m\u001b[0;34m\u001b[0m\u001b[0m\n",
      "\u001b[0;31mRecursionError\u001b[0m: maximum recursion depth exceeded in __instancecheck__"
     ]
    }
   ],
   "source": [
    "def compare_seqs(first, second):\n",
    "    matched = \"\"\n",
    "    def next(one, two, str):\n",
    "        if len(first) == 0 and len(second) == 0:\n",
    "            return str\n",
    "        if first[0] == second[0]:\n",
    "            str += first[0]\n",
    "            return next(first[1:], second[1:], str)\n",
    "        else:\n",
    "            return str\n",
    "            \n",
    "    next(first, second, matched)\n",
    "    return matched\n",
    "\n",
    "compare_seqs(streptomyces, seq2)"
   ]
  },
  {
   "cell_type": "code",
   "execution_count": null,
   "id": "953b32ee",
   "metadata": {},
   "outputs": [],
   "source": []
  },
  {
   "cell_type": "code",
   "execution_count": null,
   "id": "69df9aac",
   "metadata": {},
   "outputs": [],
   "source": []
  },
  {
   "cell_type": "code",
   "execution_count": null,
   "id": "7effa1e1",
   "metadata": {},
   "outputs": [],
   "source": []
  }
 ],
 "metadata": {
  "kernelspec": {
   "display_name": "Python 3 (ipykernel)",
   "language": "python",
   "name": "python3"
  },
  "language_info": {
   "codemirror_mode": {
    "name": "ipython",
    "version": 3
   },
   "file_extension": ".py",
   "mimetype": "text/x-python",
   "name": "python",
   "nbconvert_exporter": "python",
   "pygments_lexer": "ipython3",
   "version": "3.9.7"
  }
 },
 "nbformat": 4,
 "nbformat_minor": 5
}
