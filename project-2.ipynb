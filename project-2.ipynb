{
 "cells": [
  {
   "cell_type": "code",
   "execution_count": 1,
   "id": "c78138e6",
   "metadata": {},
   "outputs": [
    {
     "name": "stdout",
     "output_type": "stream",
     "text": [
      "Collecting package metadata (current_repodata.json): ...working... done\n",
      "Solving environment: ...working... done\n",
      "\n",
      "## Package Plan ##\n",
      "\n",
      "  environment location: /opt/conda\n",
      "\n",
      "  added / updated specs:\n",
      "    - biopython\n",
      "\n",
      "\n",
      "The following packages will be downloaded:\n",
      "\n",
      "    package                    |            build\n",
      "    ---------------------------|-----------------\n",
      "    biopython-1.79             |   py39h3811e60_1         2.6 MB  conda-forge\n",
      "    certifi-2021.10.8          |   py39hf3d152e_1         145 KB  conda-forge\n",
      "    ------------------------------------------------------------\n",
      "                                           Total:         2.8 MB\n",
      "\n",
      "The following NEW packages will be INSTALLED:\n",
      "\n",
      "  biopython          conda-forge/linux-64::biopython-1.79-py39h3811e60_1\n",
      "\n",
      "The following packages will be UPDATED:\n",
      "\n",
      "  certifi                          2021.10.8-py39hf3d152e_0 --> 2021.10.8-py39hf3d152e_1\n",
      "\n",
      "\n",
      "Preparing transaction: ...working... done\n",
      "Verifying transaction: ...working... done\n",
      "Executing transaction: ...working... done\n"
     ]
    }
   ],
   "source": [
    "!conda install -y -q -c conda-forge biopython\n",
    "from Bio import SeqIO"
   ]
  },
  {
   "cell_type": "code",
   "execution_count": 4,
   "id": "c9b763eb",
   "metadata": {},
   "outputs": [
    {
     "name": "stdout",
     "output_type": "stream",
     "text": [
      "EFE81671.1\n",
      "MSQESSAQSRDVTPEPAAAAPPTDGEGYDYDVLIVGSGFGGAVSALRLTEKGYRVGVLEAGRRFTRATLPRNSWDLKNYLWAPALGLFGIQRIHLLGNVMVLAGAGVGGGSLNYANTLYVPPKPFFTDPQWGAITDWQDELKPYYDQAQKMLGVRLNPTTTPSDVHLKAAAEKMGVGDTFHMAPVGVFFGDGKDATGESRAKPGEEVPDPYFGGAGPSRRACSECGECMTGCRHGAKNTLNENYLYLAEKAGATIHPMTSVVAVTEDSRGGFAVRTLPTNAKRKGRGRTFTARRVVLAAGTYGTQTLLHRMKDTGLLPHLSDKLGTLTRTNSEGLVGAQTTDRRYRKAHGAEKADFTKGVAITSSVHPNDSTHIEPVRYGKKSNAMGGLTILQVPYAENSSRVAGFLANCAKHPLLVVRSLSNRRWSERTIIGLVMQTLDNSLTTYRKPKGIGKGLLTARQGHGAPNPTQIKEAGEAATAIAAEINGFAGSNIGELMGTPLTAHFLGGCPIGATADEGVIDPYHRLYGHPGITVVDGSAVSANLGVNPSLTITAQAERAASLWPNKGEADPRPAQGHPYERIAPVAPVRPAVPAKAFAALDLPFLGMPAMPPKQRPADAPAGPGESA\n",
      "ACR43926.1\n",
      "MTAQDEKFRLSRRGFMAAGAGAVAATAFAGWTPAYAVPAGSSGSAGGPVSTLTPPPAFPEGIALYQQAYQNWSKEIMLDAIWTCSPKTPEDVVRLANWGHANGYTIRPRGAMHGWTPLTIVNGAPVDKVILADTTVHLTGVSVNAGGSPATVTAGPGATLDAITTALQAQGLGFANLPAPGVLTIAGCLAVDAHGAALPAEGEAHVPGQTFGSLSNLVTSLTAVVWNGSEYALETYARSDAAIKPLLTHLGRTFLTSVTLQAAPNYRMRCVSHTDIGWQELFGARGASGRTFEKFVRENGRAEAIWYPFTERPWMKVWSLAPTKPPFSREVTGPYNYIFSDNLPEPVTDMIGQINAGNPGIAPAFGQIMYATTVAGLAATFSNDLWGWSKDVQFYIRATTLRLTEGGGAVITSRANIGQVIHDFTQWFNGRMEYYRSIGQFPLNGPVEIRCCGLDQPSDVEVDSAGAPTISAMRPRPDHPEWDTAIWLNVLGVPGTPGMFAFYREMEQWMRNHYNNNDATFRPEWSKGWAFGPDKPYTDAPIITQGLPQTYRDGVPSSDNWDTANAAYNALDPHKVFSNTFLDQLLP\n"
     ]
    }
   ],
   "source": [
    "for seq_rec in SeqIO.parse(\"streptomyces_sequence.fasta\", \"fasta\"):\n",
    "    # Sequence of the original cholesterol oxidase protein from Streptomyces\n",
    "    print(seq_rec.name)\n",
    "    print(seq_rec.seq)\n",
    "\n",
    "for seq_rec in SeqIO.parse(\"rhodococcus_sequence.fasta\", \"fasta\"):\n",
    "    # Sequence of the original cholesterol oxidase protein from Streptomyces\n",
    "    print(seq_rec.name)\n",
    "    print(seq_rec.seq)\n",
    "    \n",
    "\"\"\"\n",
    "From here, I'm thinking we try to align the sequences, keep the conserved sites the same, and use variable regions as our\n",
    "base pairs to change?\n",
    "\"\"\""
   ]
  },
  {
   "cell_type": "code",
   "execution_count": null,
   "id": "507cf0cf",
   "metadata": {},
   "outputs": [],
   "source": []
  }
 ],
 "metadata": {
  "kernelspec": {
   "display_name": "Python 3 (ipykernel)",
   "language": "python",
   "name": "python3"
  },
  "language_info": {
   "codemirror_mode": {
    "name": "ipython",
    "version": 3
   },
   "file_extension": ".py",
   "mimetype": "text/x-python",
   "name": "python",
   "nbconvert_exporter": "python",
   "pygments_lexer": "ipython3",
   "version": "3.9.7"
  }
 },
 "nbformat": 4,
 "nbformat_minor": 5
}
