{
 "cells": [
  {
   "cell_type": "code",
   "execution_count": 1,
   "id": "c78138e6",
   "metadata": {},
   "outputs": [
    {
     "name": "stdout",
     "output_type": "stream",
     "text": [
      "Collecting package metadata (current_repodata.json): ...working... done\n",
      "Solving environment: ...working... done\n",
      "\n",
      "## Package Plan ##\n",
      "\n",
      "  environment location: /opt/conda\n",
      "\n",
      "  added / updated specs:\n",
      "    - biopython\n",
      "    - muscle\n",
      "\n",
      "\n",
      "The following packages will be downloaded:\n",
      "\n",
      "    package                    |            build\n",
      "    ---------------------------|-----------------\n",
      "    biopython-1.79             |   py39h3811e60_1         2.6 MB  conda-forge\n",
      "    certifi-2021.10.8          |   py39hf3d152e_1         145 KB  conda-forge\n",
      "    muscle-3.8.1551            |       h7d875b9_6         262 KB  bioconda\n",
      "    ------------------------------------------------------------\n",
      "                                           Total:         3.0 MB\n",
      "\n",
      "The following NEW packages will be INSTALLED:\n",
      "\n",
      "  biopython          conda-forge/linux-64::biopython-1.79-py39h3811e60_1\n",
      "  muscle             bioconda/linux-64::muscle-3.8.1551-h7d875b9_6\n",
      "\n",
      "The following packages will be UPDATED:\n",
      "\n",
      "  certifi                          2021.10.8-py39hf3d152e_0 --> 2021.10.8-py39hf3d152e_1\n",
      "\n",
      "\n",
      "Preparing transaction: ...working... done\n",
      "Verifying transaction: ...working... done\n",
      "Executing transaction: ...working... done\n",
      "Collecting package metadata (current_repodata.json): done\n",
      "Solving environment: done\n",
      "\n",
      "\n",
      "==> WARNING: A newer version of conda exists. <==\n",
      "  current version: 4.10.3\n",
      "  latest version: 4.11.0\n",
      "\n",
      "Please update conda by running\n",
      "\n",
      "    $ conda update -n base conda\n",
      "\n",
      "\n",
      "\n",
      "## Package Plan ##\n",
      "\n",
      "  environment location: /opt/conda\n",
      "\n",
      "  added / updated specs:\n",
      "    - bowtie2\n",
      "\n",
      "\n",
      "The following packages will be downloaded:\n",
      "\n",
      "    package                    |            build\n",
      "    ---------------------------|-----------------\n",
      "    bowtie2-2.2.5              |   py39h7cff6ad_8        14.9 MB  bioconda\n",
      "    perl-5.32.1                | 1_h7f98852_perl5        14.4 MB  conda-forge\n",
      "    ------------------------------------------------------------\n",
      "                                           Total:        29.3 MB\n",
      "\n",
      "The following NEW packages will be INSTALLED:\n",
      "\n",
      "  bowtie2            bioconda/linux-64::bowtie2-2.2.5-py39h7cff6ad_8\n",
      "  perl               conda-forge/linux-64::perl-5.32.1-1_h7f98852_perl5\n",
      "\n",
      "\n",
      "Proceed ([y]/n)? \n",
      "\n",
      "Downloading and Extracting Packages\n",
      "bowtie2-2.2.5        | 14.9 MB   | ##################################### | 100% \n",
      "perl-5.32.1          | 14.4 MB   | ##################################### | 100% \n",
      "Preparing transaction: done\n",
      "Verifying transaction: done\n",
      "Executing transaction: done\n",
      "yes: standard output: Broken pipe\n",
      "Requirement already satisfied: pyyaml in /opt/conda/lib/python3.9/site-packages (6.0)\n"
     ]
    }
   ],
   "source": [
    "!conda install -y -q -c conda-forge biopython muscle\n",
    "from Bio import SeqIO\n",
    "\n",
    "!yes | conda install -c bioconda bowtie2\n",
    "!pip install pyyaml\n",
    "\n",
    "from Bio.Blast import NCBIWWW\n",
    "from Bio.Blast import NCBIXML\n"
   ]
  },
  {
   "cell_type": "code",
   "execution_count": 2,
   "id": "c9b763eb",
   "metadata": {},
   "outputs": [],
   "source": [
    "import os\n",
    "from Bio.Align.Applications import MuscleCommandline"
   ]
  },
  {
   "cell_type": "code",
   "execution_count": 7,
   "id": "507cf0cf",
   "metadata": {},
   "outputs": [
    {
     "data": {
      "text/plain": [
       "3"
      ]
     },
     "execution_count": 7,
     "metadata": {},
     "output_type": "execute_result"
    }
   ],
   "source": [
    "records = []\n",
    "for filename in os.scandir(\"./unaligned\"):\n",
    "    if \"fasta\" in filename.name:\n",
    "        for record in SeqIO.parse(filename, \"fasta\"):\n",
    "            records.append(record)\n",
    "SeqIO.write(records, \"all_unaligned.fasta\", \"fasta\")"
   ]
  },
  {
   "cell_type": "code",
   "execution_count": 8,
   "id": "cee0ea21",
   "metadata": {},
   "outputs": [
    {
     "name": "stdout",
     "output_type": "stream",
     "text": [
      "\r\n",
      "MUSCLE v3.8.1551 by Robert C. Edgar\r\n",
      "\r\n",
      "http://www.drive5.com/muscle\r\n",
      "This software is donated to the public domain.\r\n",
      "Please cite: Edgar, R.C. Nucleic Acids Res 32(5), 1792-97.\r\n",
      "\r\n",
      "all_unaligned 3 seqs, lengths min 624, max 627, avg 626\r\n",
      "00:00:00     15 MB(1%)  Iter   1   16.67%  K-mer dist pass 1\r",
      "00:00:00     15 MB(1%)  Iter   1  100.00%  K-mer dist pass 1\r",
      "\r\n",
      "00:00:00     15 MB(1%)  Iter   1   16.67%  K-mer dist pass 2\r",
      "00:00:00     15 MB(1%)  Iter   1  100.00%  K-mer dist pass 2\r",
      "\r\n",
      "00:00:00     16 MB(1%)  Iter   1   50.00%  Align node       \r",
      "00:00:00     19 MB(1%)  Iter   1  100.00%  Align node\r",
      "00:00:00     19 MB(1%)  Iter   1  100.00%  Align node\r",
      "\r\n",
      "00:00:00     19 MB(1%)  Iter   1   33.33%  Root alignment\r",
      "00:00:00     19 MB(1%)  Iter   1   66.67%  Root alignment\r",
      "00:00:00     19 MB(1%)  Iter   1  100.00%  Root alignment\r",
      "00:00:00     19 MB(1%)  Iter   1  100.00%  Root alignment\r",
      "\r\n",
      "00:00:00     19 MB(1%)  Iter   2  100.00%  Root alignment\r",
      "\r\n",
      "00:00:00     19 MB(1%)  Iter   3   66.67%  Refine biparts\r",
      "00:00:00     19 MB(1%)  Iter   3  100.00%  Refine biparts\r",
      "00:00:00     19 MB(1%)  Iter   3  133.33%  Refine biparts\r",
      "00:00:00     19 MB(1%)  Iter   3  100.00%  Refine biparts\r",
      "\r\n",
      "00:00:00     19 MB(1%)  Iter   4   66.67%  Refine biparts\r",
      "00:00:00     19 MB(1%)  Iter   4  100.00%  Refine biparts\r",
      "00:00:00     19 MB(1%)  Iter   4  133.33%  Refine biparts\r",
      "00:00:00     19 MB(1%)  Iter   4  100.00%  Refine biparts\r",
      "\r\n",
      "00:00:00     19 MB(1%)  Iter   5   66.67%  Refine biparts\r",
      "00:00:00     19 MB(1%)  Iter   5  100.00%  Refine biparts\r",
      "00:00:00     19 MB(1%)  Iter   5  133.33%  Refine biparts\r",
      "00:00:00     19 MB(1%)  Iter   5  100.00%  Refine biparts\r",
      "\r\n",
      "00:00:00     19 MB(1%)  Iter   6   66.67%  Refine biparts\r",
      "00:00:00     19 MB(1%)  Iter   6  100.00%  Refine biparts\r",
      "00:00:00     19 MB(1%)  Iter   6  133.33%  Refine biparts\r",
      "00:00:00     19 MB(1%)  Iter   6  100.00%  Refine biparts\r",
      "\r\n",
      "00:00:00     19 MB(1%)  Iter   7   66.67%  Refine biparts\r",
      "00:00:00     19 MB(1%)  Iter   7  100.00%  Refine biparts\r",
      "00:00:00     19 MB(1%)  Iter   7  133.33%  Refine biparts\r",
      "00:00:00     19 MB(1%)  Iter   7  100.00%  Refine biparts\r",
      "\r\n",
      "00:00:00     19 MB(1%)  Iter   8   66.67%  Refine biparts\r",
      "00:00:00     19 MB(1%)  Iter   8  100.00%  Refine biparts\r",
      "00:00:00     19 MB(1%)  Iter   8  133.33%  Refine biparts\r",
      "00:00:00     19 MB(1%)  Iter   8  100.00%  Refine biparts\r",
      "\r\n",
      "00:00:00     19 MB(1%)  Iter   9   66.67%  Refine biparts\r",
      "00:00:00     19 MB(1%)  Iter   9  100.00%  Refine biparts\r",
      "00:00:00     19 MB(1%)  Iter   9  133.33%  Refine biparts\r",
      "00:00:00     19 MB(1%)  Iter   9  100.00%  Refine biparts\r",
      "\r\n",
      "00:00:00     19 MB(1%)  Iter  10   66.67%  Refine biparts\r",
      "00:00:00     19 MB(1%)  Iter  10  100.00%  Refine biparts\r",
      "00:00:00     19 MB(1%)  Iter  10  133.33%  Refine biparts\r",
      "00:00:00     19 MB(1%)  Iter  10  100.00%  Refine biparts\r",
      "\r\n",
      "00:00:00     19 MB(1%)  Iter  11   66.67%  Refine biparts\r",
      "00:00:00     19 MB(1%)  Iter  11  100.00%  Refine biparts\r",
      "00:00:00     19 MB(1%)  Iter  11  133.33%  Refine biparts\r",
      "00:00:00     19 MB(1%)  Iter  11  100.00%  Refine biparts\r",
      "\r\n",
      "00:00:00     19 MB(1%)  Iter  12   66.67%  Refine biparts\r",
      "00:00:00     19 MB(1%)  Iter  12  100.00%  Refine biparts\r",
      "00:00:00     19 MB(1%)  Iter  12  133.33%  Refine biparts\r",
      "00:00:00     19 MB(1%)  Iter  12  100.00%  Refine biparts\r",
      "\r\n",
      "00:00:00     19 MB(1%)  Iter  13   66.67%  Refine biparts\r",
      "00:00:00     19 MB(1%)  Iter  13  100.00%  Refine biparts\r",
      "00:00:00     19 MB(1%)  Iter  13  133.33%  Refine biparts\r",
      "00:00:00     19 MB(1%)  Iter  13  100.00%  Refine biparts\r",
      "\r\n",
      "00:00:00     19 MB(1%)  Iter  14   66.67%  Refine biparts\r",
      "00:00:00     19 MB(1%)  Iter  14  100.00%  Refine biparts\r",
      "00:00:00     19 MB(1%)  Iter  14  133.33%  Refine biparts\r",
      "00:00:00     19 MB(1%)  Iter  14  100.00%  Refine biparts\r",
      "\r\n",
      "00:00:00     19 MB(1%)  Iter  15   66.67%  Refine biparts\r",
      "00:00:00     19 MB(1%)  Iter  15  100.00%  Refine biparts\r",
      "00:00:00     19 MB(1%)  Iter  15  133.33%  Refine biparts\r",
      "00:00:00     19 MB(1%)  Iter  15  100.00%  Refine biparts\r",
      "\r\n",
      "00:00:00     19 MB(1%)  Iter  16   66.67%  Refine biparts\r",
      "00:00:00     19 MB(1%)  Iter  16  100.00%  Refine biparts\r",
      "00:00:00     19 MB(1%)  Iter  16  133.33%  Refine biparts\r",
      "00:00:00     19 MB(1%)  Iter  16  100.00%  Refine biparts\r",
      "\r\n",
      "00:00:00     19 MB(1%)  Iter  17   66.67%  Refine biparts\r",
      "00:00:00     19 MB(1%)  Iter  17  100.00%  Refine biparts\r",
      "00:00:00     19 MB(1%)  Iter  17  133.33%  Refine biparts\r",
      "00:00:00     19 MB(1%)  Iter  17  100.00%  Refine biparts\r",
      "\r\n"
     ]
    }
   ],
   "source": [
    "!muscle -in all_unaligned.fasta -out all_aligned.fasta"
   ]
  },
  {
   "cell_type": "code",
   "execution_count": 15,
   "id": "953b32ee",
   "metadata": {},
   "outputs": [
    {
     "name": "stdout",
     "output_type": "stream",
     "text": [
      "30\n"
     ]
    },
    {
     "data": {
      "text/plain": [
       "'MSQESSAQSRDVTPEPAA[AT]APPT[AD][GE][GD][GA]YDYDVL[IV]VGSGFGGAVSALRLTEKGYRVGVLEAGRRFTRA[TS]LPR[NS]SWDL[RK]NYLWAPALGLFGIQRIHLLGNVMVLAGAGVGGGSLNYANTLYVPP[EK]PFFTDPQWGAITDWQDELKPYYDQA[QS][RK]MLGVRLNPTTTPSDVHLKAAAEKMG[FV]GDTFHMAPVGVFFGDGKDA[ET]G[AE]SRA[RK]PGEEV[AP]DPYFGGAGPSRRAC[NS]ECGECMTGCRHGAKNTLNENYLYLAEKAGATIHPMTSVVAVTEDSRGGFAVRTLPT[DN]A[QK]RKGRGRTFTARRVVLAAGTYGTQTLLHRMKDTGLLP[HR]LSDKLGTLTRTNSEGLVGAQTTDRRYRKAHGAEK[AV]DFTKGVAITSSVHPNDSTHIEPVRYGKKSNAMGGLTILQVPYAENSSRVAGFLANCA[RK]HPLLV[LI]RSLSNRRWSERTIIGLVMQ[TS]LDNSLTTYRKPKGIGKGLLTARQGHGAPNPTQIKEAGEAATAIA[AE]EINGFAGSNIGEL[MI]GTPLTAHFLGGCPIGATADEGV[IV]DPYHRLYGHPGI[TS]VVDGSAVSANLGVNPSLTITAQAERAASLWPNKGEADPRP[AE]QGHPYERIAPVAPLRPAVPAEAFAAL'"
      ]
     },
     "execution_count": 15,
     "metadata": {},
     "output_type": "execute_result"
    }
   ],
   "source": [
    "options = [set() for _ in range(600)]\n",
    "for record in SeqIO.parse(\"all_aligned.fasta\", \"fasta\"):\n",
    "    for i in range(len(record.seq)):\n",
    "        if i < len(options):\n",
    "            options[i].add(record.seq[i])\n",
    "            \n",
    "result_string = \"\"\n",
    "var_site_count = 0\n",
    "for opt in options:\n",
    "    if len(opt) > 1 and var_site_count < 30:\n",
    "        result_string += \"[\" + opt.pop() + opt.pop() + \"]\"\n",
    "        var_site_count += 1\n",
    "    else:\n",
    "        result_string += opt.pop()\n",
    "        \n",
    "print(var_site_count)\n",
    "result_string"
   ]
  },
  {
   "cell_type": "code",
   "execution_count": null,
   "id": "69df9aac",
   "metadata": {},
   "outputs": [],
   "source": []
  },
  {
   "cell_type": "code",
   "execution_count": null,
   "id": "7effa1e1",
   "metadata": {},
   "outputs": [],
   "source": []
  }
 ],
 "metadata": {
  "kernelspec": {
   "display_name": "Python 3 (ipykernel)",
   "language": "python",
   "name": "python3"
  },
  "language_info": {
   "codemirror_mode": {
    "name": "ipython",
    "version": 3
   },
   "file_extension": ".py",
   "mimetype": "text/x-python",
   "name": "python",
   "nbconvert_exporter": "python",
   "pygments_lexer": "ipython3",
   "version": "3.9.7"
  }
 },
 "nbformat": 4,
 "nbformat_minor": 5
}
