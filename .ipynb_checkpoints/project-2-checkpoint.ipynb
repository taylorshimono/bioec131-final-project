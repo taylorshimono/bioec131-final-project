{
 "cells": [
  {
   "cell_type": "code",
   "execution_count": 7,
   "id": "c78138e6",
   "metadata": {},
   "outputs": [
    {
     "name": "stdout",
     "output_type": "stream",
     "text": [
      "Collecting package metadata (current_repodata.json): ...working... done\n",
      "Solving environment: ...working... done\n",
      "\n",
      "# All requested packages already installed.\n",
      "\n",
      "Collecting package metadata (current_repodata.json): done\n",
      "Solving environment: done\n",
      "\n",
      "\n",
      "==> WARNING: A newer version of conda exists. <==\n",
      "  current version: 4.10.3\n",
      "  latest version: 4.11.0\n",
      "\n",
      "Please update conda by running\n",
      "\n",
      "    $ conda update -n base conda\n",
      "\n",
      "\n",
      "\n",
      "# All requested packages already installed.\n",
      "\n",
      "yes: standard output: Broken pipe\n",
      "Requirement already satisfied: pyyaml in /opt/conda/lib/python3.9/site-packages (6.0)\n"
     ]
    }
   ],
   "source": [
    "!conda install -y -q -c conda-forge biopython muscle\n",
    "from Bio import SeqIO\n",
    "\n",
    "!yes | conda install -c bioconda bowtie2\n",
    "!pip install pyyaml\n",
    "\n",
    "from Bio.Blast import NCBIWWW\n",
    "from Bio.Blast import NCBIXML\n"
   ]
  },
  {
   "cell_type": "code",
   "execution_count": 8,
   "id": "c9b763eb",
   "metadata": {},
   "outputs": [],
   "source": [
    "import os\n",
    "from Bio.Align.Applications import MuscleCommandline"
   ]
  },
  {
   "cell_type": "code",
   "execution_count": 12,
   "id": "507cf0cf",
   "metadata": {},
   "outputs": [
    {
     "data": {
      "text/plain": [
       "2"
      ]
     },
     "execution_count": 12,
     "metadata": {},
     "output_type": "execute_result"
    }
   ],
   "source": [
    "records = []\n",
    "for filename in os.scandir(\"./unaligned\"):\n",
    "    if \"fasta\" in filename.name:\n",
    "        for record in SeqIO.parse(filename, \"fasta\"):\n",
    "            records.append(record)\n",
    "SeqIO.write(records, \"all_unaligned.fasta\", \"fasta\")"
   ]
  },
  {
   "cell_type": "code",
   "execution_count": 13,
   "id": "cee0ea21",
   "metadata": {},
   "outputs": [
    {
     "name": "stdout",
     "output_type": "stream",
     "text": [
      "\r\n",
      "MUSCLE v3.8.1551 by Robert C. Edgar\r\n",
      "\r\n",
      "http://www.drive5.com/muscle\r\n",
      "This software is donated to the public domain.\r\n",
      "Please cite: Edgar, R.C. Nucleic Acids Res 32(5), 1792-97.\r\n",
      "\r\n",
      "all_unaligned 2 seqs, lengths min 627, max 627, avg 627\r\n",
      "00:00:00     15 MB(1%)  Iter   1   33.33%  K-mer dist pass 1\r",
      "00:00:00     15 MB(1%)  Iter   1  100.00%  K-mer dist pass 1\r",
      "\r\n",
      "00:00:00     15 MB(1%)  Iter   1   33.33%  K-mer dist pass 2\r",
      "00:00:00     15 MB(1%)  Iter   1  100.00%  K-mer dist pass 2\r",
      "\r\n",
      "00:00:00     15 MB(1%)  Iter   1  100.00%  Align node       \r",
      "00:00:00     18 MB(1%)  Iter   1  100.00%  Align node\r",
      "\r\n",
      "00:00:00     18 MB(1%)  Iter   1   50.00%  Root alignment\r",
      "00:00:00     18 MB(1%)  Iter   1  100.00%  Root alignment\r",
      "00:00:00     18 MB(1%)  Iter   1  100.00%  Root alignment\r",
      "\r\n"
     ]
    }
   ],
   "source": [
    "!muscle -in all_unaligned.fasta -out all_aligned.fasta"
   ]
  },
  {
   "cell_type": "code",
   "execution_count": 15,
   "id": "953b32ee",
   "metadata": {},
   "outputs": [],
   "source": [
    "options = [set() for _ in range(600)]\n",
    "for record in SeqIO.parse(\"all_aligned.fasta\", \"fasta\"):\n",
    "    for i in range(len(record.seq)):\n",
    "        if i < len(options):\n",
    "            options[i].add(record.seq[i])"
   ]
  },
  {
   "cell_type": "code",
   "execution_count": 17,
   "id": "69df9aac",
   "metadata": {},
   "outputs": [
    {
     "data": {
      "text/plain": [
       "'MSQESSAQSRDVTPEPAAAAPPTDG[ED][AG]YDYDVL[VI]VGSGFGGAVSALRLTEKGYRVGVLEAGRRFTRATLPRNSWDLKNYLWAPALGLFGIQRIHLLGNVMVLAGAGVGGGSLNYANTLYVPPKPFFTDPQWGAITDWQDELKPYYDQAQKMLGVRLNPTTTPSDVHLKAAAEKMGVGDTFHMAPVGVFFGDGKDATG[AE]SRA[RK]PGEEVPDPYFGGAGPSRRACSECGECMTGCRHGAKNTLNENYLYLAEKAGATIHPMTSVVAVTEDSRGGFAVRTLPTNA[QK]RKGRGRTFTARRVVLAAGTYGTQTLLHRMKDTGLLP[RH]LSDKLGTLTRTNSEGLVGAQTTDRRYRKAHGAEK[VA]DFTKGVAITSSVHPNDSTHIEPVRYGKKSNAMGGLTILQVPYAENSSRVAGFLANCAKHPLLV[VL]RSLSNRRWSERTIIGLVMQTLDNSLTTYRKPKGIGKGLLTARQGHGAPNPTQIKEAGEAATAIAAEINGFAGSNIGELMGTPLTAHFLGGCPIGATADEGVIDPYHRLYGHPGI[ST]VVDGSAVSANLGVNPSLTITAQAERAASLWPNKGEADPRPAQGHPYERIAPVAPVRPAVPAKAFAAL'"
      ]
     },
     "execution_count": 17,
     "metadata": {},
     "output_type": "execute_result"
    }
   ],
   "source": [
    "result_string = \"\"\n",
    "for opt in options:\n",
    "    if len(opt) > 1:\n",
    "        result_string += \"[\" + opt.pop() + opt.pop() + \"]\"\n",
    "    else:\n",
    "        result_string += opt.pop()\n",
    "result_string"
   ]
  },
  {
   "cell_type": "code",
   "execution_count": null,
   "id": "7effa1e1",
   "metadata": {},
   "outputs": [],
   "source": []
  }
 ],
 "metadata": {
  "kernelspec": {
   "display_name": "Python 3 (ipykernel)",
   "language": "python",
   "name": "python3"
  },
  "language_info": {
   "codemirror_mode": {
    "name": "ipython",
    "version": 3
   },
   "file_extension": ".py",
   "mimetype": "text/x-python",
   "name": "python",
   "nbconvert_exporter": "python",
   "pygments_lexer": "ipython3",
   "version": "3.9.7"
  }
 },
 "nbformat": 4,
 "nbformat_minor": 5
}
